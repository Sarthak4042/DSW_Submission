{
  "nbformat": 4,
  "nbformat_minor": 0,
  "metadata": {
    "colab": {
      "provenance": []
    },
    "kernelspec": {
      "name": "python3",
      "display_name": "Python 3"
    },
    "language_info": {
      "name": "python"
    }
  },
  "cells": [
    {
      "cell_type": "code",
      "execution_count": 3,
      "metadata": {
        "id": "JV2L83EF8jNM"
      },
      "outputs": [],
      "source": [
        "#libraries\n",
        "import pandas as pd\n",
        "from sklearn.model_selection import train_test_split, GridSearchCV\n",
        "from sklearn.preprocessing import StandardScaler, OneHotEncoder\n",
        "from sklearn.ensemble import RandomForestClassifier\n",
        "from sklearn.neural_network import MLPClassifier\n",
        "from sklearn.pipeline import Pipeline\n",
        "from sklearn.compose import ColumnTransformer\n",
        "from sklearn.metrics import accuracy_score, precision_score, recall_score, f1_score"
      ]
    },
    {
      "cell_type": "code",
      "source": [
        "# Load the dataset\n",
        "historic_data = pd.read_csv('historic.csv')\n",
        "\n",
        "# Converting top to 0 and flop to 1\n",
        "historic_data['success_indicator'] = historic_data['success_indicator'].map({'top': 0, 'flop': 1})"
      ],
      "metadata": {
        "id": "lhG58-OWLYv-"
      },
      "execution_count": 4,
      "outputs": []
    },
    {
      "cell_type": "code",
      "source": [
        "# Defining feature columns\n",
        "X = historic_data.drop(columns=['success_indicator'])\n",
        "y = historic_data['success_indicator']\n",
        "\n",
        "# Spliting for train and test\n",
        "X_train, X_test, y_train, y_test = train_test_split(X, y, test_size=0.2, random_state=42)\n"
      ],
      "metadata": {
        "id": "Ovht9Zg3LYtW"
      },
      "execution_count": 5,
      "outputs": []
    },
    {
      "cell_type": "code",
      "source": [
        "#preprocessing steps\n",
        "numeric_features = ['stars']\n",
        "categorical_features = ['category', 'main_promotion', 'color']\n",
        "\n",
        "numeric_transformer = Pipeline(steps=[\n",
        "    ('scaler', StandardScaler())])\n",
        "\n",
        "categorical_transformer = Pipeline(steps=[\n",
        "    ('onehot', OneHotEncoder(handle_unknown='ignore'))])\n",
        "\n",
        "preprocessor = ColumnTransformer(\n",
        "    transformers=[\n",
        "        ('num', numeric_transformer, numeric_features),\n",
        "        ('cat', categorical_transformer, categorical_features)])"
      ],
      "metadata": {
        "id": "EJQug3FQLYq2"
      },
      "execution_count": 6,
      "outputs": []
    },
    {
      "cell_type": "code",
      "source": [
        "# Define parameter grids for RandomForestClassifier and MLPClassifier\n",
        "param_grids = [\n",
        "    {'classifier': [RandomForestClassifier()],\n",
        "     'classifier__n_estimators': [100, 200, 300]},\n",
        "    {'classifier': [MLPClassifier(max_iter=1000)],\n",
        "     'classifier__hidden_layer_sizes': [(25,), (15, 15), (5, 5, 5)],\n",
        "     'classifier__activation': ['relu', 'tanh'],\n",
        "     'classifier__solver': ['adam']}\n",
        "]\n",
        "\n",
        "#best model and best score\n",
        "best_model = None\n",
        "best_score = 0\n"
      ],
      "metadata": {
        "id": "KTuMZ_lHLYoW"
      },
      "execution_count": 7,
      "outputs": []
    },
    {
      "cell_type": "code",
      "source": [
        "# Initialize best model and best score\n",
        "best_model = None\n",
        "best_score = 0\n",
        "\n",
        "for params in param_grids:\n",
        "    pipeline = Pipeline(steps=[('preprocessor', preprocessor), ('classifier', None)])\n",
        "\n",
        "    grid_search = GridSearchCV(pipeline, param_grid=params, cv=5, scoring='accuracy')\n",
        "    grid_search.fit(X_train, y_train)\n",
        "\n",
        "    # Prediction on test set\n",
        "    y_pred = grid_search.predict(X_test)\n",
        "\n",
        "    # Calculating evaluation metrics\n",
        "    accuracy = accuracy_score(y_test, y_pred)\n",
        "    precision = precision_score(y_test, y_pred)\n",
        "    recall = recall_score(y_test, y_pred)\n",
        "    f1 = f1_score(y_test, y_pred)\n",
        "\n",
        "    # Print results\n",
        "    print(\"Best Parameters:\", grid_search.best_params_)\n",
        "    print(\"Best Score:\", grid_search.best_score_)\n",
        "    print(\"Accuracy:\", accuracy)\n",
        "    print(\"Precision:\", precision)\n",
        "    print(\"Recall:\", recall)\n",
        "    print(\"F1 Score:\", f1)\n",
        "    print(\"-----*****-----*****-----*****-----*****-----*****-----*****-----\")\n",
        "\n",
        "    # Update best model and best score if current model is better\n",
        "    if grid_search.best_score_ > best_score:\n",
        "        best_model = grid_search.best_estimator_\n",
        "        best_score = grid_search.best_score_\n",
        "\n",
        "# Printing best model and best score\n",
        "print(\"Best Model:\", best_model)\n",
        "print(\"Best Score:\", best_score)\n"
      ],
      "metadata": {
        "id": "r1PttCB_LYle",
        "colab": {
          "base_uri": "https://localhost:8080/"
        },
        "outputId": "2e24c4e5-63cb-4663-b62f-40a7657658c7"
      },
      "execution_count": 8,
      "outputs": [
        {
          "output_type": "stream",
          "name": "stdout",
          "text": [
            "Best Parameters: {'classifier': RandomForestClassifier(n_estimators=300), 'classifier__n_estimators': 300}\n",
            "Best Score: 0.8159375000000001\n",
            "Accuracy: 0.821875\n",
            "Precision: 0.782608695652174\n",
            "Recall: 0.6935201401050788\n",
            "F1 Score: 0.735376044568245\n",
            "-----*****-----*****-----*****-----*****-----*****-----*****-----\n",
            "Best Parameters: {'classifier': MLPClassifier(activation='tanh', hidden_layer_sizes=(25,), max_iter=1000), 'classifier__activation': 'tanh', 'classifier__hidden_layer_sizes': (25,), 'classifier__solver': 'adam'}\n",
            "Best Score: 0.8493749999999999\n",
            "Accuracy: 0.851875\n",
            "Precision: 0.8353413654618473\n",
            "Recall: 0.7285464098073555\n",
            "F1 Score: 0.7782974742750233\n",
            "-----*****-----*****-----*****-----*****-----*****-----*****-----\n",
            "Best Model: Pipeline(steps=[('preprocessor',\n",
            "                 ColumnTransformer(transformers=[('num',\n",
            "                                                  Pipeline(steps=[('scaler',\n",
            "                                                                   StandardScaler())]),\n",
            "                                                  ['stars']),\n",
            "                                                 ('cat',\n",
            "                                                  Pipeline(steps=[('onehot',\n",
            "                                                                   OneHotEncoder(handle_unknown='ignore'))]),\n",
            "                                                  ['category', 'main_promotion',\n",
            "                                                   'color'])])),\n",
            "                ('classifier',\n",
            "                 MLPClassifier(activation='tanh', hidden_layer_sizes=(25,),\n",
            "                               max_iter=1000))])\n",
            "Best Score: 0.8493749999999999\n"
          ]
        }
      ]
    },
    {
      "cell_type": "markdown",
      "source": [
        "\n",
        "\n",
        "# Random Forest is chosen because of ...\n",
        "\n",
        "1. **High Accuracy**: Random Forest often yields high accuracy compared to other models, making it a reliable choice for various datasets and scenarios.\n",
        "\n",
        "2. **Ensemble Learning**: Random Forest is an ensemble learning method that combines multiple decision trees to make predictions. This approach helps reduce overfitting and improves generalization performance.\n",
        "\n",
        "3. **Robustness to Outliers**: Random Forest is less sensitive to outliers compared to distance-based algorithms like k-Nearest Neighbors or linear models. This robustness makes it suitable for datasets with noisy or skewed data points.\n",
        "\n",
        "4. **Interpretability**: Despite being an ensemble model, Random Forest remains relatively interpretable. It provides feature importances, which can help understand the relative importance of different features in making predictions.\n"
      ],
      "metadata": {
        "id": "2yUBZkdjNmt8"
      }
    }
  ]
}